{
 "cells": [
  {
   "cell_type": "markdown",
   "metadata": {},
   "source": [
    "# Hi"
   ]
  },
  {
   "cell_type": "code",
   "execution_count": 2,
   "metadata": {},
   "outputs": [
    {
     "name": "stdout",
     "output_type": "stream",
     "text": [
      "                  Time     Open     High      Low    Close range_bar\n",
      "1     09/09/2022 03:14  4048.50  4048.75  4047.75  4048.25      True\n",
      "2     09/09/2022 03:15  4048.50  4049.50  4048.50  4048.75     False\n",
      "3     09/09/2022 03:16  4049.00  4051.75  4048.75  4051.25      True\n",
      "4     09/09/2022 03:17  4051.50  4054.00  4051.50  4052.75      True\n",
      "5     09/09/2022 03:18  4052.75  4053.75  4051.75  4052.25     False\n",
      "...                ...      ...      ...      ...      ...       ...\n",
      "9995  09/20/2022 08:48  3875.50  3877.00  3873.75  3876.25     False\n",
      "9996  09/20/2022 08:49  3876.25  3876.50  3871.75  3872.00      True\n",
      "9997  09/20/2022 08:50  3872.00  3872.50  3869.25  3869.75      True\n",
      "9998  09/20/2022 08:51  3869.50  3870.00  3866.75  3866.75      True\n",
      "9999  09/20/2022 08:52  3866.75  3869.75  3866.00  3866.00      True\n",
      "\n",
      "[9999 rows x 6 columns]\n"
     ]
    }
   ],
   "source": [
    "import DataFrame\n",
    "import pandas as pd\n",
    "import mplfinance as mpf\n",
    "import numpy as np\n",
    "\n",
    "df = DataFrame.high_low_close_time_open\n",
    "\n",
    "current_range_bar = {\"High\": 0, \"Low\": 0}\n",
    "for i, row in df.iterrows():\n",
    "    if row[\"Close\"] > current_range_bar[\"High\"] or row[\"Close\"] < current_range_bar[\"Low\"]:\n",
    "        current_range_bar[\"High\"] = row[\"High\"]\n",
    "        current_range_bar[\"Low\"] = row[\"Low\"]\n",
    "        df.at[i, \"range_bar\"] = True\n",
    "    else:\n",
    "        df.at[i, \"range_bar\"] = False\n",
    "\n",
    "print(df)\n"
   ]
  }
 ],
 "metadata": {
  "kernelspec": {
   "display_name": "Python 3.10.5 64-bit",
   "language": "python",
   "name": "python3"
  },
  "language_info": {
   "codemirror_mode": {
    "name": "ipython",
    "version": 3
   },
   "file_extension": ".py",
   "mimetype": "text/x-python",
   "name": "python",
   "nbconvert_exporter": "python",
   "pygments_lexer": "ipython3",
   "version": "3.10.5"
  },
  "orig_nbformat": 4,
  "vscode": {
   "interpreter": {
    "hash": "e840f835684bb817df5906e8ed510f836174b639f32d5b8a3998d784828aaa2b"
   }
  }
 },
 "nbformat": 4,
 "nbformat_minor": 2
}
